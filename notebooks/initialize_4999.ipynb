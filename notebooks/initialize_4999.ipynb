{
 "cells": [
  {
   "cell_type": "code",
   "execution_count": 1,
   "metadata": {
    "collapsed": true
   },
   "outputs": [],
   "source": [
    "import os\n",
    "import numpy\n",
    "\n",
    "data_dir = '../data/samples'\n",
    "fullfilepath = lambda filename: os.path.join(data_dir, filename)"
   ]
  },
  {
   "cell_type": "code",
   "execution_count": 2,
   "metadata": {
    "collapsed": false
   },
   "outputs": [],
   "source": [
    "model_4779_state_0 = numpy.load(fullfilepath('hdptm_080617163237_4779_state_0.npz'))"
   ]
  },
  {
   "cell_type": "code",
   "execution_count": 3,
   "metadata": {
    "collapsed": false
   },
   "outputs": [],
   "source": [
    "model_7090_state_14556 = numpy.load(fullfilepath('hdptm_061216085831_7090_state_14556.npz'))"
   ]
  },
  {
   "cell_type": "code",
   "execution_count": 4,
   "metadata": {
    "collapsed": false
   },
   "outputs": [],
   "source": [
    "model_4779_new_state_0 = {}\n",
    "\n",
    "for key in model_4779_state_0.keys():\n",
    "    model_4779_new_state_0[key] = model_4779_state_0[key]\n",
    "    \n",
    "for key in ('a', 'K_rep', 'psi', 'm', 'c', 'K_min', 'b', 'w', 'x', 'z', 'gamma'):\n",
    "    model_4779_new_state_0[key] = model_7090_state_14556[key]"
   ]
  },
  {
   "cell_type": "code",
   "execution_count": 5,
   "metadata": {
    "collapsed": false
   },
   "outputs": [],
   "source": [
    "numpy.savez(fullfilepath('hdptm_080617163237_4779_state_0.npz'), **model_4779_state_0)"
   ]
  }
 ],
 "metadata": {
  "hide_input": false,
  "kernelspec": {
   "display_name": "Python 2",
   "language": "python2",
   "name": "python2"
  },
  "language_info": {
   "codemirror_mode": {
    "name": "ipython",
    "version": 2
   },
   "file_extension": ".py",
   "mimetype": "text/x-python",
   "name": "python",
   "nbconvert_exporter": "python",
   "pygments_lexer": "ipython2",
   "version": "2.7.13"
  }
 },
 "nbformat": 4,
 "nbformat_minor": 2
}
